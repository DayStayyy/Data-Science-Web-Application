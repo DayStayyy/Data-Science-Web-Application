{
 "cells": [
  {
   "cell_type": "code",
   "execution_count": null,
   "metadata": {},
   "outputs": [],
   "source": [
    "import pandas as pd\n",
    "import numpy as np\n",
    "import matplotlib.pyplot as plt"
   ]
  },
  {
   "cell_type": "code",
   "execution_count": null,
   "metadata": {},
   "outputs": [],
   "source": [
    "df = pd.read_csv('data.csv', encoding = 'ISO-8859-1')\n",
    "df.head()"
   ]
  },
  {
   "cell_type": "code",
   "execution_count": null,
   "metadata": {},
   "outputs": [],
   "source": [
    "def find_best_selling_products(dataframe, n=10):\n",
    "    products = dataframe.groupby('Description')['Quantity'].sum(numeric_only=False)\n",
    "    products = products.sort_values(ascending=False)\n",
    "    return products.head(n)"
   ]
  },
  {
   "cell_type": "code",
   "execution_count": null,
   "metadata": {},
   "outputs": [],
   "source": [
    "find_best_selling_products(df)"
   ]
  },
  {
   "cell_type": "code",
   "execution_count": null,
   "metadata": {},
   "outputs": [],
   "source": [
    "def find_most_returned_products(dataframe, n=10):\n",
    "    products = dataframe[dataframe['Quantity'] < 0].groupby('Description')['Quantity'].sum(numeric_only=False)\n",
    "    products = products.sort_values(ascending=True)\n",
    "    return products.head(n)"
   ]
  },
  {
   "cell_type": "code",
   "execution_count": null,
   "metadata": {},
   "outputs": [],
   "source": [
    "find_most_returned_products(df)"
   ]
  },
  {
   "cell_type": "code",
   "execution_count": null,
   "metadata": {},
   "outputs": [],
   "source": [
    "def find_best_customers(dataframe, n=10):\n",
    "    customers = dataframe.groupby('CustomerID')['Quantity'].sum(numeric_only=False)\n",
    "    customers = customers.sort_values(ascending=False)\n",
    "    return customers.head(n)"
   ]
  },
  {
   "cell_type": "code",
   "execution_count": null,
   "metadata": {},
   "outputs": [],
   "source": [
    "find_best_customers(df)"
   ]
  },
  {
   "cell_type": "code",
   "execution_count": null,
   "metadata": {},
   "outputs": [],
   "source": [
    "def find_most_returned_customers(dataframe, n=10):\n",
    "    customers = dataframe[dataframe['Quantity'] < 0].groupby('CustomerID')['Quantity'].sum(numeric_only=False)\n",
    "    customers = customers.sort_values(ascending=True)\n",
    "    return customers.head(n)"
   ]
  },
  {
   "cell_type": "code",
   "execution_count": null,
   "metadata": {},
   "outputs": [],
   "source": [
    "find_most_returned_customers(df)"
   ]
  },
  {
   "cell_type": "code",
   "execution_count": null,
   "metadata": {},
   "outputs": [],
   "source": [
    "def find_best_selling_products_by_country(dataframe, n=10):\n",
    "    # Only get rows where quantity is greater than zero (to ignore returns)\n",
    "    df = dataframe[dataframe['Quantity'] > 0]\n",
    "    countries_products = df.groupby(['Country','Description'])[['Quantity']].sum(numeric_only=False).reset_index()\n",
    "    countries_products = countries_products.sort_values(by=['Country','Quantity'],ascending=[True,False])\n",
    "    products_by_country = {}\n",
    "    for country, df_country in countries_products.groupby('Country'):\n",
    "        products = df_country.head(n)[\"Description\"].tolist()\n",
    "        products_by_country[country] = products\n",
    "    return products_by_country"
   ]
  },
  {
   "cell_type": "code",
   "execution_count": null,
   "metadata": {},
   "outputs": [],
   "source": [
    "find_best_selling_products_by_country(df)"
   ]
  },
  {
   "cell_type": "code",
   "execution_count": null,
   "metadata": {},
   "outputs": [],
   "source": [
    "def find_similar_products_countries(dataframe, n=10):\n",
    "    # Create a dataframe with the top n products in the United Kingdom\n",
    "    df_uk = dataframe[dataframe['Country'] == 'United Kingdom']\n",
    "    uk_products = df_uk.groupby('Description')[['Quantity']].sum(numeric_only=False).nlargest(n, 'Quantity')\n",
    "    uk_products = uk_products.index.tolist()\n",
    "\n",
    "    # Group the original dataframe by country and get the top n products for each country\n",
    "    countries_products = dataframe.groupby(['Country','Description'])[['Quantity']].sum(numeric_only=False).reset_index()\n",
    "    countries_products = countries_products.sort_values(by=['Country','Quantity'],ascending=[True,False])\n",
    "    countries_products = countries_products.groupby('Country').head(n)\n",
    "    similar_countries = {}\n",
    "\n",
    "    # Iterate over the countries and compare the top n products to the UK products\n",
    "    for country, df_country in countries_products.groupby('Country'):\n",
    "        country_products = df_country['Description'].tolist()\n",
    "        common_products = set(country_products).intersection(uk_products)\n",
    "        if len(common_products) > 0:\n",
    "            similar_countries[country] = common_products\n",
    "    return similar_countries"
   ]
  },
  {
   "cell_type": "code",
   "execution_count": null,
   "metadata": {},
   "outputs": [],
   "source": [
    "find_similar_products_countries(df)"
   ]
  },
  {
   "cell_type": "code",
   "execution_count": null,
   "metadata": {},
   "outputs": [],
   "source": [
    "def product_price_variation_percentage(dataframe, start_date, end_date, product_name=None):\n",
    "    # Filter dataframe by date\n",
    "    df = dataframe[(dataframe['InvoiceDate'] >= start_date) & (dataframe['InvoiceDate'] <= end_date)]\n",
    "    # Filter dataframe by product name\n",
    "    if product_name:\n",
    "        df = df[df['Description'] == product_name]\n",
    "    # Group by product and sum the total price\n",
    "    df = df.copy()\n",
    "    df[\"TotalPrice\"] = df[\"Quantity\"] * df[\"UnitPrice\"]\n",
    "    price_variation = df.groupby([\"Description\"])[\"TotalPrice\"].sum(numeric_only=False).to_frame()\n",
    "    #compute the percentage change\n",
    "    price_variation[\"PriceVariationPercentage\"] = (price_variation[\"TotalPrice\"] - price_variation[\"TotalPrice\"].shift(1))/price_variation[\"TotalPrice\"].shift(1)\n",
    "    price_variation[\"PriceVariationPercentage\"] = price_variation[\"PriceVariationPercentage\"].replace([np.inf, -np.inf], np.nan).fillna(0)\n",
    "    return price_variation.sort_values(by=\"PriceVariationPercentage\", ascending=False)"
   ]
  },
  {
   "cell_type": "code",
   "execution_count": null,
   "metadata": {},
   "outputs": [],
   "source": [
    "product_price_variation_percentage(df, '2011-01-01', '2011-12-01')"
   ]
  },
  {
   "cell_type": "code",
   "execution_count": null,
   "metadata": {},
   "outputs": [],
   "source": [
    "def product_sales_variation_percentage(dataframe, start_date, end_date, product_name=None):\n",
    "    # Filter dataframe by date\n",
    "    df = dataframe[(dataframe['InvoiceDate'] >= start_date) & (dataframe['InvoiceDate'] <= end_date)]\n",
    "    # Filter dataframe by product name\n",
    "    if product_name:\n",
    "        df = df[df['Description'] == product_name]\n",
    "    # Group by product and sum the quantity\n",
    "    df = df.copy()\n",
    "    sales_total = df.groupby([\"Description\"])[\"Quantity\"].sum().to_frame()\n",
    "    #compute the percentage change\n",
    "    sales_total[\"SalesVariationPercentage\"] = sales_total[\"Quantity\"] / sales_total[\"Quantity\"].sum()\n",
    "    return sales_total.sort_values(by=\"SalesVariationPercentage\", ascending=False)"
   ]
  },
  {
   "cell_type": "code",
   "execution_count": null,
   "metadata": {},
   "outputs": [],
   "source": [
    "product_sales_variation_percentage(df, '2011-01-01', '2011-12-31')"
   ]
  }
 ],
 "metadata": {
  "kernelspec": {
   "display_name": "Math_Data_Science",
   "language": "python",
   "name": "python3"
  },
  "language_info": {
   "codemirror_mode": {
    "name": "ipython",
    "version": 3
   },
   "file_extension": ".py",
   "mimetype": "text/x-python",
   "name": "python",
   "nbconvert_exporter": "python",
   "pygments_lexer": "ipython3",
   "version": "3.10.8"
  },
  "orig_nbformat": 4,
  "vscode": {
   "interpreter": {
    "hash": "bb701209d7838660461ea4bdf5e2f2b1ac5ec4b6bb0e5eb1a6cf557440a25b5e"
   }
  }
 },
 "nbformat": 4,
 "nbformat_minor": 2
}
