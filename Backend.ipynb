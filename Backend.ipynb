{
 "cells": [
  {
   "cell_type": "code",
   "execution_count": null,
   "metadata": {},
   "outputs": [],
   "source": [
    "import pandas as pd\n",
    "import matplotlib.pyplot as plt"
   ]
  },
  {
   "cell_type": "code",
   "execution_count": null,
   "metadata": {},
   "outputs": [],
   "source": [
    "df = pd.read_csv('data.csv', encoding = 'ISO-8859-1')\n",
    "df.head()"
   ]
  },
  {
   "cell_type": "code",
   "execution_count": null,
   "metadata": {},
   "outputs": [],
   "source": [
    "def find_best_selling_products(dataframe, n=10):\n",
    "    products = dataframe.groupby('Description').sum(numeric_only=False)['Quantity']\n",
    "    products = products.sort_values(ascending=False)\n",
    "    return products.head(n)"
   ]
  },
  {
   "cell_type": "code",
   "execution_count": null,
   "metadata": {},
   "outputs": [],
   "source": [
    "def find_most_returned_products(dataframe, n=10):\n",
    "    products = dataframe[dataframe['Quantity'] < 0].groupby('Description').sum(numeric_only=False)['Quantity']\n",
    "    products = products.sort_values(ascending=True)\n",
    "    return products.head(n)"
   ]
  },
  {
   "cell_type": "code",
   "execution_count": null,
   "metadata": {},
   "outputs": [],
   "source": [
    "def find_best_customers(dataframe, n=10):\n",
    "    customers = dataframe.groupby('CustomerID').sum(numeric_only=False)['Quantity']\n",
    "    customers = customers.sort_values(ascending=False)\n",
    "    return customers.head(n)"
   ]
  },
  {
   "cell_type": "code",
   "execution_count": null,
   "metadata": {},
   "outputs": [],
   "source": [
    "def find_most_returned_customers(dataframe, n=10):\n",
    "    customers = dataframe[dataframe['Quantity'] < 0].groupby('CustomerID').sum(numeric_only=False)['Quantity']\n",
    "    customers = customers.sort_values(ascending=True)\n",
    "    return customers.head(n)"
   ]
  },
  {
   "cell_type": "code",
   "execution_count": null,
   "metadata": {},
   "outputs": [],
   "source": [
    "def find_best_selling_products_by_country(dataframe, n=10):\n",
    "    # Only get rows where quantity is greater than zero (to ignore returns)\n",
    "    df = dataframe[dataframe['Quantity'] > 0]\n",
    "    countries_products = df.groupby(['Country','Description']).sum(numeric_only=False).reset_index()\n",
    "    countries_products = countries_products.sort_values(by=['Country','Quantity'],ascending=[True,False])\n",
    "    products_by_country = {}\n",
    "    for country, df_country in countries_products.groupby('Country'):\n",
    "        products = df_country.head(n)[\"Description\"].tolist()\n",
    "        products_by_country[country] = products\n",
    "    return products_by_country"
   ]
  },
  {
   "cell_type": "code",
   "execution_count": null,
   "metadata": {},
   "outputs": [],
   "source": [
    "def find_similar_products_countries(dataframe, n=10):\n",
    "    # Create a dataframe with the top n products in the United Kingdom\n",
    "    df_uk = dataframe[dataframe['Country'] == 'United Kingdom']\n",
    "    uk_products = df_uk.groupby('Description').sum(numeric_only=False).nlargest(n, 'Quantity')\n",
    "    uk_products = uk_products.index.tolist()\n",
    "\n",
    "    # Group the original dataframe by country and get the top n products for each country\n",
    "    countries_products = dataframe.groupby(['Country','Description']).sum(numeric_only=False).reset_index()\n",
    "    countries_products = countries_products.sort_values(by=['Country','Quantity'],ascending=[True,False])\n",
    "    countries_products = countries_products.groupby('Country').head(n)\n",
    "    similar_countries = {}\n",
    "\n",
    "    # Iterate over the countries and compare the top n products to the UK products\n",
    "    for country, df_country in countries_products.groupby('Country'):\n",
    "        country_products = df_country['Description'].tolist()\n",
    "        common_products = set(country_products).intersection(uk_products)\n",
    "        if len(common_products) > 0:\n",
    "            similar_countries[country] = common_products\n",
    "    return similar_countries"
   ]
  }
 ],
 "metadata": {
  "kernelspec": {
   "display_name": "Python 3",
   "language": "python",
   "name": "python3"
  },
  "language_info": {
   "codemirror_mode": {
    "name": "ipython",
    "version": 3
   },
   "file_extension": ".py",
   "mimetype": "text/x-python",
   "name": "python",
   "nbconvert_exporter": "python",
   "pygments_lexer": "ipython3",
   "version": "3.9.12"
  },
  "orig_nbformat": 4,
  "vscode": {
   "interpreter": {
    "hash": "9947ca907420648ee86069b82481bb3b22959ed6846e34f2e80323e30cb447a6"
   }
  }
 },
 "nbformat": 4,
 "nbformat_minor": 2
}
