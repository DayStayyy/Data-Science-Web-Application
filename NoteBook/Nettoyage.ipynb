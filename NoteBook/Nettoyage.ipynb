{
 "cells": [
  {
   "cell_type": "code",
   "execution_count": null,
   "metadata": {},
   "outputs": [],
   "source": [
    "import pandas as pd"
   ]
  },
  {
   "cell_type": "code",
   "execution_count": null,
   "metadata": {},
   "outputs": [],
   "source": [
    "df = pd.read_csv('../Data/data.csv', encoding = 'ISO-8859-1')\n",
    "df.head()"
   ]
  },
  {
   "cell_type": "code",
   "execution_count": null,
   "metadata": {},
   "outputs": [],
   "source": [
    "df.isnull().sum()"
   ]
  },
  {
   "cell_type": "code",
   "execution_count": null,
   "metadata": {},
   "outputs": [],
   "source": [
    "def fill_na_description(dataframe):\n",
    "    most_common_description_by_stockcode = dataframe.groupby(\"StockCode\")[\"Description\"].first()\n",
    "    dataframe[\"Description\"].fillna(dataframe[\"StockCode\"].map(most_common_description_by_stockcode), inplace=True)\n",
    "    return dataframe.head()\n",
    "\n",
    "fill_na_description(df)"
   ]
  },
  {
   "cell_type": "code",
   "execution_count": null,
   "metadata": {},
   "outputs": [],
   "source": [
    "df.isnull().sum()"
   ]
  },
  {
   "cell_type": "code",
   "execution_count": null,
   "metadata": {},
   "outputs": [],
   "source": [
    "def fill_none_description(dataframe):\n",
    "    most_common_description_by_stockcode = dataframe.groupby(\"StockCode\")[\"Description\"].apply(lambda x:x.value_counts().idxmax() if x.count() else None)\n",
    "    most_common_description_by_stockcode.fillna('', inplace = True)\n",
    "    dataframe[\"Description\"].fillna(dataframe[\"StockCode\"].map(most_common_description_by_stockcode), inplace=True)\n",
    "    return dataframe.head()\n",
    "\n",
    "fill_none_description(df)"
   ]
  },
  {
   "cell_type": "code",
   "execution_count": null,
   "metadata": {},
   "outputs": [],
   "source": [
    "df.isnull().sum()"
   ]
  },
  {
   "cell_type": "code",
   "execution_count": null,
   "metadata": {},
   "outputs": [],
   "source": [
    "def clean_dates(dataframe):\n",
    "    # convert \"InvoiceDate\" column to datetime\n",
    "    dataframe[\"InvoiceDate\"] = pd.to_datetime(dataframe[\"InvoiceDate\"])\n",
    "\n",
    "    # extract date only\n",
    "    dataframe[\"InvoiceDate\"] = dataframe[\"InvoiceDate\"].dt.date\n",
    "    return dataframe.head()\n",
    "    \n",
    "clean_dates(df)"
   ]
  },
  {
   "cell_type": "code",
   "execution_count": null,
   "metadata": {},
   "outputs": [],
   "source": [
    "def convert_float_to_int(dataframe):\n",
    "    dataframe[\"CustomerID\"] = dataframe[\"CustomerID\"].fillna(-1)\n",
    "    dataframe[\"CustomerID\"] = dataframe[\"CustomerID\"].astype(int)\n",
    "    return dataframe.head()\n",
    "\n",
    "convert_float_to_int(df)"
   ]
  },
  {
   "cell_type": "code",
   "execution_count": null,
   "metadata": {},
   "outputs": [],
   "source": [
    "df.isnull().sum()"
   ]
  },
  {
   "cell_type": "code",
   "execution_count": null,
   "metadata": {},
   "outputs": [],
   "source": [
    "# Remove \"?\", \"damaged\", \"check\", etc.\n",
    "def remove_non_uppercase_description(dataframe):\n",
    "    dataframe.drop(dataframe[~dataframe['Description'].str.isupper()].index, inplace = True)\n",
    "    return dataframe.head()\n",
    "\n",
    "remove_non_uppercase_description(df)"
   ]
  },
  {
   "cell_type": "code",
   "execution_count": null,
   "metadata": {},
   "outputs": [],
   "source": [
    "def reset_index_and_save(dataframe, file_path):\n",
    "    dataframe.reset_index(drop=True, inplace=True)\n",
    "    dataframe.to_csv(file_path, index=False)\n",
    "\n",
    "reset_index_and_save(df, '../Data/to_csv.csv')"
   ]
  }
 ],
 "metadata": {
  "kernelspec": {
   "display_name": "Python 3",
   "language": "python",
   "name": "python3"
  },
  "language_info": {
   "codemirror_mode": {
    "name": "ipython",
    "version": 3
   },
   "file_extension": ".py",
   "mimetype": "text/x-python",
   "name": "python",
   "nbconvert_exporter": "python",
   "pygments_lexer": "ipython3",
   "version": "3.9.10 (tags/v3.9.10:f2f3f53, Jan 17 2022, 15:14:21) [MSC v.1929 64 bit (AMD64)]"
  },
  "orig_nbformat": 4,
  "vscode": {
   "interpreter": {
    "hash": "1ccce0eb1800f6c0786b7bd29000fbeb1767f3f85515b2760ab8840818a90ef6"
   }
  }
 },
 "nbformat": 4,
 "nbformat_minor": 2
}
