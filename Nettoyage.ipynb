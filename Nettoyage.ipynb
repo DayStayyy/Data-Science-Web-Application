{
 "cells": [
  {
   "cell_type": "code",
   "execution_count": null,
   "metadata": {},
   "outputs": [],
   "source": [
    "import pandas as pd"
   ]
  },
  {
   "cell_type": "code",
   "execution_count": null,
   "metadata": {},
   "outputs": [],
   "source": [
    "df = pd.read_csv('data.csv', encoding = 'ISO-8859-1')\n",
    "df.head()"
   ]
  },
  {
   "cell_type": "code",
   "execution_count": null,
   "metadata": {},
   "outputs": [],
   "source": [
    "df.isnull().sum()"
   ]
  },
  {
   "cell_type": "code",
   "execution_count": null,
   "metadata": {},
   "outputs": [],
   "source": [
    "def fill_na_description(dataframe):\n",
    "    most_common_description_by_stockcode = dataframe.groupby(\"StockCode\")[\"Description\"].first()\n",
    "    dataframe[\"Description\"].fillna(dataframe[\"StockCode\"].map(most_common_description_by_stockcode), inplace=True)\n",
    "    return dataframe.head()\n",
    "\n",
    "fill_na_description(df)"
   ]
  },
  {
   "cell_type": "code",
   "execution_count": null,
   "metadata": {},
   "outputs": [],
   "source": [
    "df.isnull().sum()"
   ]
  },
  {
   "cell_type": "code",
   "execution_count": null,
   "metadata": {},
   "outputs": [],
   "source": [
    "def fill_none_description(dataframe):\n",
    "    most_common_description_by_stockcode = dataframe.groupby(\"StockCode\")[\"Description\"].apply(lambda x:x.value_counts().idxmax() if x.count() else None)\n",
    "    most_common_description_by_stockcode.fillna('', inplace = True)\n",
    "    dataframe[\"Description\"].fillna(dataframe[\"StockCode\"].map(most_common_description_by_stockcode), inplace=True)\n",
    "    return dataframe.head()\n",
    "\n",
    "fill_none_description(df)"
   ]
  },
  {
   "cell_type": "code",
   "execution_count": null,
   "metadata": {},
   "outputs": [],
   "source": [
    "df.isnull().sum()"
   ]
  },
  {
   "cell_type": "code",
   "execution_count": null,
   "metadata": {},
   "outputs": [],
   "source": [
    "def clean_dates(dataframe):\n",
    "    # convert \"InvoiceDate\" column to datetime\n",
    "    dataframe[\"InvoiceDate\"] = pd.to_datetime(dataframe[\"InvoiceDate\"])\n",
    "\n",
    "    # extract date only\n",
    "    dataframe[\"InvoiceDate\"] = dataframe[\"InvoiceDate\"].dt.date\n",
    "    return dataframe.head()\n",
    "    \n",
    "clean_dates(df)"
   ]
  },
  {
   "cell_type": "code",
   "execution_count": null,
   "metadata": {},
   "outputs": [],
   "source": [
    "def convert_float_to_int(dataframe):\n",
    "    dataframe[\"CustomerID\"] = dataframe[\"CustomerID\"].fillna(-1)\n",
    "    dataframe[\"CustomerID\"] = dataframe[\"CustomerID\"].astype(int)\n",
    "    return dataframe.head()\n",
    "\n",
    "convert_float_to_int(df)"
   ]
  },
  {
   "cell_type": "code",
   "execution_count": null,
   "metadata": {},
   "outputs": [],
   "source": [
    "df.isnull().sum()"
   ]
  },
  {
   "cell_type": "code",
   "execution_count": null,
   "metadata": {},
   "outputs": [],
   "source": [
    "# Remove \"?\", \"damaged\", \"check\", etc.\n",
    "def remove_non_uppercase_description(dataframe):\n",
    "    dataframe.drop(dataframe[~dataframe['Description'].str.isupper()].index, inplace = True)\n",
    "    return dataframe.head()\n",
    "\n",
    "remove_non_uppercase_description(df)"
   ]
  },
  {
   "cell_type": "code",
   "execution_count": null,
   "metadata": {},
   "outputs": [],
   "source": [
    "def reset_index_and_save(dataframe, file_path):\n",
    "    dataframe.reset_index(drop=True, inplace=True)\n",
    "    dataframe.to_csv(file_path, index=False)\n",
    "\n",
    "reset_index_and_save(df, 'data.csv')"
   ]
  }
 ],
 "metadata": {
  "kernelspec": {
   "display_name": "Math_Data_Science",
   "language": "python",
   "name": "python3"
  },
  "language_info": {
   "codemirror_mode": {
    "name": "ipython",
    "version": 3
   },
   "file_extension": ".py",
   "mimetype": "text/x-python",
   "name": "python",
   "nbconvert_exporter": "python",
   "pygments_lexer": "ipython3",
   "version": "3.10.8"
  },
  "orig_nbformat": 4,
  "vscode": {
   "interpreter": {
    "hash": "bb701209d7838660461ea4bdf5e2f2b1ac5ec4b6bb0e5eb1a6cf557440a25b5e"
   }
  }
 },
 "nbformat": 4,
 "nbformat_minor": 2
}
