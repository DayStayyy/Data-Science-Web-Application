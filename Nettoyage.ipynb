{
 "cells": [
  {
   "cell_type": "code",
   "execution_count": null,
   "metadata": {},
   "outputs": [],
   "source": [
    "import pandas as pd"
   ]
  },
  {
   "cell_type": "code",
   "execution_count": null,
   "metadata": {},
   "outputs": [],
   "source": [
    "df = pd.read_csv('data.csv', encoding = 'ISO-8859-1')\n",
    "df.head()"
   ]
  },
  {
   "cell_type": "code",
   "execution_count": null,
   "metadata": {},
   "outputs": [],
   "source": [
    "df.isnull().sum()"
   ]
  },
  {
   "cell_type": "code",
   "execution_count": null,
   "metadata": {},
   "outputs": [],
   "source": [
    "def fill_na_description(dataframe):\n",
    "    most_common_description_by_stockcode = dataframe.groupby(\"StockCode\")[\"Description\"].first()\n",
    "    dataframe[\"Description\"].fillna(dataframe[\"StockCode\"].map(most_common_description_by_stockcode), inplace=True)\n",
    "    return dataframe.head()\n",
    "\n",
    "fill_na_description(df)"
   ]
  },
  {
   "cell_type": "code",
   "execution_count": null,
   "metadata": {},
   "outputs": [],
   "source": [
    "df.isnull().sum()"
   ]
  },
  {
   "cell_type": "code",
   "execution_count": null,
   "metadata": {},
   "outputs": [],
   "source": [
    "def fill_none_description(dataframe):\n",
    "    most_common_description_by_stockcode = dataframe.groupby(\"StockCode\")[\"Description\"].apply(lambda x:x.value_counts().idxmax() if x.count() else None)\n",
    "    most_common_description_by_stockcode.fillna('', inplace = True)\n",
    "    dataframe[\"Description\"].fillna(dataframe[\"StockCode\"].map(most_common_description_by_stockcode), inplace=True)\n",
    "    return dataframe.head()\n",
    "\n",
    "fill_none_description(df)"
   ]
  },
  {
   "cell_type": "code",
   "execution_count": null,
   "metadata": {},
   "outputs": [],
   "source": [
    "df.isnull().sum()"
   ]
  },
  {
   "cell_type": "code",
   "execution_count": null,
   "metadata": {},
   "outputs": [],
   "source": [
    "# Remove \"?\", \"damaged\", \"check\", etc.\n",
    "def remove_non_uppercase_description(dataframe):\n",
    "    dataframe.drop(dataframe[~dataframe['Description'].str.isupper()].index, inplace = True)\n",
    "    return dataframe.head()\n",
    "\n",
    "remove_non_uppercase_description(df)"
   ]
  },
  {
   "cell_type": "code",
   "execution_count": null,
   "metadata": {},
   "outputs": [],
   "source": [
    "def reset_index_and_save(dataframe, file_path):\n",
    "    dataframe.reset_index(drop=True, inplace=True)\n",
    "    dataframe.to_csv(file_path, index=False)\n",
    "\n",
    "reset_index_and_save(df, 'data.csv')"
   ]
  }
 ],
 "metadata": {
  "kernelspec": {
   "display_name": "Python 3",
   "language": "python",
   "name": "python3"
  },
  "language_info": {
   "codemirror_mode": {
    "name": "ipython",
    "version": 3
   },
   "file_extension": ".py",
   "mimetype": "text/x-python",
   "name": "python",
   "nbconvert_exporter": "python",
   "pygments_lexer": "ipython3",
   "version": "3.9.12"
  },
  "orig_nbformat": 4,
  "vscode": {
   "interpreter": {
    "hash": "9947ca907420648ee86069b82481bb3b22959ed6846e34f2e80323e30cb447a6"
   }
  }
 },
 "nbformat": 4,
 "nbformat_minor": 2
}
