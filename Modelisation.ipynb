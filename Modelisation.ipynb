{
 "cells": [
  {
   "cell_type": "code",
   "execution_count": null,
   "metadata": {},
   "outputs": [],
   "source": [
    "import pandas as pd\n",
    "import matplotlib.pyplot as plt"
   ]
  },
  {
   "cell_type": "code",
   "execution_count": null,
   "metadata": {},
   "outputs": [],
   "source": [
    "df = pd.read_csv('data.csv', encoding = 'ISO-8859-1')\n",
    "df.head()"
   ]
  },
  {
   "cell_type": "code",
   "execution_count": null,
   "metadata": {},
   "outputs": [],
   "source": [
    "def plot_top_products(dataframe):\n",
    "    # Group the data by product and sum the quantity\n",
    "    products = dataframe.groupby('Description').sum(numeric_only=False)['Quantity']\n",
    "    # Sort the products by quantity\n",
    "    products = products.sort_values(ascending=False)\n",
    "    # Plot the top 10 products\n",
    "    products.iloc[:10].plot(kind='bar')\n",
    "    plt.xlabel('Product')\n",
    "    plt.ylabel('Quantity Sold')\n",
    "    plt.title('Top 10 Selling Products')\n",
    "    plt.show()"
   ]
  },
  {
   "cell_type": "code",
   "execution_count": null,
   "metadata": {},
   "outputs": [],
   "source": [
    "plot_top_products(df)"
   ]
  },
  {
   "cell_type": "code",
   "execution_count": null,
   "metadata": {},
   "outputs": [],
   "source": [
    "def plot_top_returned_products(dataframe):\n",
    "    # Only get rows where quantity is less than zero\n",
    "    dataframe_products = dataframe[dataframe['Quantity'] < 0]\n",
    "    # Group by product and sum the quantity\n",
    "    products = dataframe_products.groupby('Description').sum(numeric_only=False)['Quantity']\n",
    "    # Sort products by quantity, but since it's negative we sort in ascending order\n",
    "    products = products.sort_values(ascending=True)\n",
    "    # Plot the top 10 returned products\n",
    "    ax = products.iloc[:10].plot(kind='bar')\n",
    "    ax.invert_yaxis()\n",
    "    plt.xlabel('Quantity Returned')\n",
    "    plt.ylabel('Product')\n",
    "    plt.title('Top 10 Returned Products')\n",
    "    plt.show()"
   ]
  },
  {
   "cell_type": "code",
   "execution_count": null,
   "metadata": {},
   "outputs": [],
   "source": [
    "plot_top_returned_products(df)"
   ]
  },
  {
   "cell_type": "code",
   "execution_count": null,
   "metadata": {},
   "outputs": [],
   "source": [
    "def plot_top_customers(dataframe):\n",
    "    # Group the data by customer and sum the Quantity\n",
    "    customers = dataframe.groupby('CustomerID')['Quantity'].sum(numeric_only=False)\n",
    "    # Sort the customers by quantity\n",
    "    customers = customers.sort_values(ascending=False)\n",
    "    # Plot the top 10 customers\n",
    "    customers.head(10).plot(kind='bar')\n",
    "    plt.xlabel('Customer ID')\n",
    "    plt.ylabel('Quantity Purchased')\n",
    "    plt.title('Top 10 Customers by Quantity Purchased')\n",
    "    plt.show()"
   ]
  },
  {
   "cell_type": "code",
   "execution_count": null,
   "metadata": {},
   "outputs": [],
   "source": [
    "plot_top_customers(df)"
   ]
  },
  {
   "cell_type": "code",
   "execution_count": null,
   "metadata": {},
   "outputs": [],
   "source": [
    "def plot_top_returned_customers(dataframe):\n",
    "    # Group by customer and sum the Quantity\n",
    "    products = dataframe.groupby('CustomerID')['Quantity'].sum(numeric_only=False)\n",
    "    # Sort customer by quantity, but since it's negative we sort in ascending order\n",
    "    products = products.sort_values(ascending=True)\n",
    "    # Plot the top 10 returned customers\n",
    "    ax = products.iloc[:10].plot(kind='bar')\n",
    "    ax.invert_yaxis()\n",
    "    plt.xlabel('Quantity Returned')\n",
    "    plt.ylabel('Customers')\n",
    "    plt.title('Top 10 Returned Customers')\n",
    "    plt.show()"
   ]
  },
  {
   "cell_type": "code",
   "execution_count": null,
   "metadata": {},
   "outputs": [],
   "source": [
    "plot_top_returned_customers(df)"
   ]
  },
  {
   "cell_type": "code",
   "execution_count": null,
   "metadata": {},
   "outputs": [],
   "source": [
    "def plot_top_products_by_country(dataframe):\n",
    "    # Only get rows where quantity is greater than zero (to ignore returns)\n",
    "    df = dataframe[dataframe['Quantity'] > 0]\n",
    "    countries = df['Country'].unique()\n",
    "    for country in countries:\n",
    "        # Filter data to include only rows for current country\n",
    "        df_country = df[df['Country'] == country]\n",
    "        # Group by product and sum the quantity\n",
    "        products = df_country.groupby('Description')['Quantity'].sum(numeric_only=False)\n",
    "        # Sort products by quantity\n",
    "        products = products.sort_values(ascending=False)\n",
    "        # Plot the top 10 products\n",
    "        products.iloc[:10][:10].plot(kind='bar')\n",
    "        plt.xlabel('Product')\n",
    "        plt.ylabel('Quantity Sold')\n",
    "        plt.title('Top 10 Sold Products in {}'.format(country))\n",
    "        plt.show()"
   ]
  },
  {
   "cell_type": "code",
   "execution_count": null,
   "metadata": {},
   "outputs": [],
   "source": [
    "plot_top_products_by_country(df)"
   ]
  },
  {
   "cell_type": "code",
   "execution_count": null,
   "metadata": {},
   "outputs": [],
   "source": [
    "def plot_sales_and_price_variation(dataframe, product_name, start_date, end_date):\n",
    "    \"\"\"\n",
    "    :param dataframe: DataFrame of invoices\n",
    "    :param product_name: name of the product\n",
    "    :param start_date: start date of the period to study in the format 'yyyy-mm-dd'\n",
    "    :param end_date: end date of the period to study in the format 'yyyy-mm-dd'\n",
    "    \"\"\"\n",
    "    # Filter the dataframe by product name and date\n",
    "    df['InvoiceDate'] = pd.to_datetime(dataframe['InvoiceDate'])\n",
    "    df_filtered = df[(df['Description'] == product_name) & (df['InvoiceDate'] >= start_date) & (df['InvoiceDate'] <= end_date)]\n",
    "    # Group by date and get the sum of Quantity and mean of UnitPrice\n",
    "    df_grouped_quantity = df_filtered.groupby(df_filtered['InvoiceDate'].dt.date)['Quantity'].sum(numeric_only=False)\n",
    "    df_grouped_unitprice = df_filtered.groupby(df_filtered['InvoiceDate'].dt.date)['UnitPrice'].mean(numeric_only=False)\n",
    "    # Plot the sales variation\n",
    "    plt.plot(df_grouped_quantity.index, df_grouped_quantity.values)\n",
    "    plt.xlabel('Date')\n",
    "    plt.xticks(rotation=45)\n",
    "    plt.ylabel('Total Quantity Sold')\n",
    "    plt.title(f'Sales variation of {product_name}')\n",
    "    plt.show()\n",
    "    # Plot the price variation\n",
    "    plt.plot(df_grouped_unitprice.index, df_grouped_unitprice.values)\n",
    "    plt.xlabel('Date')\n",
    "    plt.xticks(rotation=45)\n",
    "    plt.ylabel('Average Unit Price')\n",
    "    plt.title(f'Price variation of {product_name}')\n",
    "    plt.show()"
   ]
  },
  {
   "cell_type": "code",
   "execution_count": null,
   "metadata": {},
   "outputs": [],
   "source": [
    "plot_sales_and_price_variation(df, 'MEDIUM WHITE/PINK ROSE ART FLOWER', '2011-01-01', '2011-12-31')"
   ]
  },
  {
   "cell_type": "code",
   "execution_count": null,
   "metadata": {},
   "outputs": [],
   "source": [
    "def plot_customer_purchases_in_period(dataframe, customer_id, start_date, end_date, product_name=None):\n",
    "    # Filter dataframe by customer ID\n",
    "    df = dataframe[dataframe['CustomerID'] == customer_id]\n",
    "    # Filter dataframe by date\n",
    "    df = df[(df['InvoiceDate'] >= start_date) & (df['InvoiceDate'] <= end_date)]\n",
    "    # Filter dataframe by product name\n",
    "    if product_name:\n",
    "        df = df[df['Description'] == product_name]\n",
    "    # Create a column with the month of the purchase\n",
    "    df['InvoiceDate'] = pd.to_datetime(df['InvoiceDate'])\n",
    "    df['month'] = df['InvoiceDate'].dt.to_period('M')\n",
    "    # Group by month and sum the Quantity\n",
    "    purchases = df.groupby('month')['Quantity'].sum()\n",
    "    # Plot purchases by month\n",
    "    if product_name:\n",
    "        title = 'Purchases of {} by Month'.format(product_name)\n",
    "    else:\n",
    "        title = 'Total Purchases by Month'\n",
    "    purchases.plot(kind='bar', title=title)\n",
    "    plt.xlabel('Month')\n",
    "    plt.ylabel('Quantity Purchased')\n",
    "    plt.show()"
   ]
  },
  {
   "cell_type": "code",
   "execution_count": null,
   "metadata": {},
   "outputs": [],
   "source": [
    "plot_customer_purchases_in_period(df, -1, '2011-01-01', '2011-12-31')"
   ]
  }
 ],
 "metadata": {
  "kernelspec": {
   "display_name": "Python 3",
   "language": "python",
   "name": "python3"
  },
  "language_info": {
   "codemirror_mode": {
    "name": "ipython",
    "version": 3
   },
   "file_extension": ".py",
   "mimetype": "text/x-python",
   "name": "python",
   "nbconvert_exporter": "python",
   "pygments_lexer": "ipython3",
   "version": "3.8.6 (tags/v3.8.6:db45529, Sep 23 2020, 15:52:53) [MSC v.1927 64 bit (AMD64)]"
  },
  "orig_nbformat": 4,
  "vscode": {
   "interpreter": {
    "hash": "849169b1448c2c828c88afd8e042cc4f869c38d01f1de134a180f01e6e2a1bd3"
   }
  }
 },
 "nbformat": 4,
 "nbformat_minor": 2
}
