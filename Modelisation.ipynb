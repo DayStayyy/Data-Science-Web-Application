{
 "cells": [
  {
   "cell_type": "code",
   "execution_count": null,
   "metadata": {},
   "outputs": [],
   "source": [
    "import pandas as pd\n",
    "import matplotlib.pyplot as plt"
   ]
  },
  {
   "cell_type": "code",
   "execution_count": null,
   "metadata": {},
   "outputs": [],
   "source": [
    "df = pd.read_csv('data.csv', encoding = 'ISO-8859-1')\n",
    "df['Description'].replace({'WORLD WAR 2 GLIDERS ASSTD DESIGNS' : 'WW2 GLIDERS',\n",
    "                            'JUMBO BAG RED RETROSPOT' : 'JUMBO BAG',\n",
    "                            'ASSORTED COLOuR BIRD ORNAMENT' : 'BIRD ORNAMENT'}, inplace = True)\n",
    "df.head()"
   ]
  },
  {
   "cell_type": "code",
   "execution_count": null,
   "metadata": {},
   "outputs": [],
   "source": [
    "def plot_top_products(dataframe, id):\n",
    "    # Group the data by product and sum the quantity\n",
    "    products = dataframe.groupby('Description').sum(numeric_only=False)['Quantity']\n",
    "    # Sort the products by quantity\n",
    "    products = products.sort_values(ascending=False)\n",
    "    # Plot the top 10 products\n",
    "    products.iloc[:10].plot(kind='bar')\n",
    "    plt.xlabel('Product')\n",
    "    plt.ylabel('Quantity Sold')\n",
    "    plt.title('Top 10 Selling Products')\n",
    "    plt.savefig(f'modelisation/{id}.png', bbox_inches='tight')"
   ]
  },
  {
   "cell_type": "code",
   "execution_count": null,
   "metadata": {},
   "outputs": [],
   "source": [
    "plot_top_products(df, 'top_products')"
   ]
  },
  {
   "cell_type": "code",
   "execution_count": null,
   "metadata": {},
   "outputs": [],
   "source": [
    "def plot_top_returned_products(dataframe, id):\n",
    "    # Only get rows where quantity is less than zero\n",
    "    dataframe_products = dataframe[dataframe['Quantity'] < 0]\n",
    "    # Group by product and sum the quantity\n",
    "    products = dataframe_products.groupby('Description')['Quantity'].sum(numeric_only=False)\n",
    "    # Sort products by quantity, but since it's negative we sort in ascending order\n",
    "    products = products.sort_values(ascending=True)\n",
    "    # Plot the top 10 returned products\n",
    "    ax = products.iloc[:10].plot(kind='bar')\n",
    "    ax.invert_yaxis()\n",
    "    plt.xlabel('Quantity Returned')\n",
    "    plt.ylabel('Product')\n",
    "    plt.title('Top 10 Returned Products')\n",
    "    plt.savefig(f'modelisation/{id}.png', bbox_inches='tight')"
   ]
  },
  {
   "cell_type": "code",
   "execution_count": null,
   "metadata": {},
   "outputs": [],
   "source": [
    "plot_top_returned_products(df, 'top_returned_products')"
   ]
  },
  {
   "cell_type": "code",
   "execution_count": null,
   "metadata": {},
   "outputs": [],
   "source": [
    "def plot_top_customers(dataframe, id):\n",
    "    # Group the data by customer and sum the Quantity\n",
    "    customers = dataframe.groupby('CustomerID')['Quantity'].sum(numeric_only=False)\n",
    "    # Sort the customers by quantity\n",
    "    customers = customers.sort_values(ascending=False)\n",
    "    # Plot the top 10 customers\n",
    "    customers.head(10).plot(kind='bar')\n",
    "    plt.xlabel('Customer ID')\n",
    "    plt.ylabel('Quantity Purchased')\n",
    "    plt.title('Top 10 Customers by Quantity Purchased')\n",
    "    plt.savefig(f'modelisation/{id}.png', bbox_inches='tight')"
   ]
  },
  {
   "cell_type": "code",
   "execution_count": null,
   "metadata": {},
   "outputs": [],
   "source": [
    "plot_top_customers(df, 'top_customers')"
   ]
  },
  {
   "cell_type": "code",
   "execution_count": null,
   "metadata": {},
   "outputs": [],
   "source": [
    "def plot_top_returned_customers(dataframe, id):\n",
    "    # Group by customer and sum the Quantity\n",
    "    products = dataframe.groupby('CustomerID')['Quantity'].sum(numeric_only=False)\n",
    "    # Sort customer by quantity, but since it's negative we sort in ascending order\n",
    "    products = products.sort_values(ascending=True)\n",
    "    # Plot the top 10 returned customers\n",
    "    ax = products.iloc[:10].plot(kind='bar')\n",
    "    ax.invert_yaxis()\n",
    "    plt.ylabel('Quantity Returned')\n",
    "    plt.xlabel('Customers')\n",
    "    plt.title('Top 10 Returned Customers')\n",
    "    plt.savefig(f'modelisation/{id}.png', bbox_inches='tight')"
   ]
  },
  {
   "cell_type": "code",
   "execution_count": null,
   "metadata": {},
   "outputs": [],
   "source": [
    "plot_top_returned_customers(df, 'top_returned_customers')"
   ]
  },
  {
   "cell_type": "code",
   "execution_count": null,
   "metadata": {},
   "outputs": [],
   "source": [
    "def plot_top_products_by_country(dataframe, id, country=None):\n",
    "    # Only get rows where quantity is greater than zero (to ignore returns)\n",
    "    # df = dataframe[dataframe['Quantity'] > 0]\n",
    "    countries = dataframe['Country'].unique()\n",
    "    if country:\n",
    "        if country not in countries:\n",
    "            print(f\"Country '{country}' not found in data.\")\n",
    "            return\n",
    "        countries = [country]\n",
    "    for country in countries:\n",
    "        # Filter data to include only rows for current country\n",
    "        df_country = dataframe[dataframe['Country'] == country]\n",
    "        # Group by product and sum the quantity\n",
    "        products = df_country.groupby('Description')['Quantity'].sum(numeric_only=False)\n",
    "        # Sort products by quantity\n",
    "        products = products.sort_values(ascending=False)\n",
    "        # Plot the top 10 products\n",
    "        products.iloc[:10][:10].plot(kind='bar')\n",
    "        plt.xlabel('Product')\n",
    "        plt.ylabel('Quantity Sold')\n",
    "        plt.title('Top 10 Sold Products in {}'.format(country))\n",
    "        plt.savefig(f'modelisation/{id}.png', bbox_inches='tight')"
   ]
  },
  {
   "cell_type": "code",
   "execution_count": null,
   "metadata": {},
   "outputs": [],
   "source": [
    "plot_top_products_by_country(df, 'top_products_by_country', 'United Kingdom')"
   ]
  },
  {
   "cell_type": "code",
   "execution_count": null,
   "metadata": {},
   "outputs": [],
   "source": [
    "def plot_sales_and_price_variation(dataframe, product_name, start_date, end_date, id1, id2):\n",
    "    \"\"\"\n",
    "    :param dataframe: DataFrame of invoices\n",
    "    :param product_name: name of the product\n",
    "    :param start_date: start date of the period to study in the format 'yyyy-mm-dd'\n",
    "    :param end_date: end date of the period to study in the format 'yyyy-mm-dd'\n",
    "    \"\"\"\n",
    "    # Filter the dataframe by product name and date\n",
    "    df['InvoiceDate'] = pd.to_datetime(dataframe['InvoiceDate'])\n",
    "    df_filtered = df[(df['Description'] == product_name) & (df['InvoiceDate'] >= start_date) & (df['InvoiceDate'] <= end_date)]\n",
    "    # Group by date and get the sum of Quantity and mean of UnitPrice\n",
    "    df_grouped_quantity = df_filtered.groupby(df_filtered['InvoiceDate'].dt.date)['Quantity'].sum(numeric_only=False)\n",
    "    df_grouped_unitprice = df_filtered.groupby(df_filtered['InvoiceDate'].dt.date)['UnitPrice'].mean(numeric_only=False)\n",
    "    # Plot the sales variation\n",
    "    plt.plot(df_grouped_quantity.index, df_grouped_quantity.values)\n",
    "    plt.xlabel('Date')\n",
    "    plt.xticks(rotation=45)\n",
    "    plt.ylabel('Total Quantity Sold')\n",
    "    plt.title(f'Sales variation of {product_name}')\n",
    "    plt.savefig(f'modelisation/{id1}.png', bbox_inches='tight')\n",
    "    plt.clf()\n",
    "    \n",
    "    # Plot the price variation\n",
    "    plt.plot(df_grouped_unitprice.index, df_grouped_unitprice.values)\n",
    "    plt.xlabel('Date')\n",
    "    plt.xticks(rotation=45)\n",
    "    plt.ylabel('Average Unit Price')\n",
    "    plt.title(f'Price variation of {product_name}')\n",
    "    plt.savefig(f'modelisation/{id2}.png', bbox_inches='tight')"
   ]
  },
  {
   "cell_type": "code",
   "execution_count": null,
   "metadata": {},
   "outputs": [],
   "source": [
    "plot_sales_and_price_variation(df, 'PINK REGENCY TEACUP AND SAUCER', '2011-01-01', '2011-12-31', 'sales_variation', 'price_variation')"
   ]
  },
  {
   "cell_type": "code",
   "execution_count": null,
   "metadata": {},
   "outputs": [],
   "source": [
    "def plot_customer_purchases_in_period(dataframe, customer_id, start_date, end_date, id, product_name=None):\n",
    "    # Filter dataframe by customer ID\n",
    "    df = dataframe[dataframe['CustomerID'] == customer_id]\n",
    "    # Filter dataframe by date\n",
    "    df = df[(df['InvoiceDate'] >= start_date) & (df['InvoiceDate'] <= end_date)]\n",
    "    # Filter dataframe by product name\n",
    "    if product_name:\n",
    "        df = df[df['Description'] == product_name]\n",
    "    # Create a column with the month of the purchase\n",
    "    df['InvoiceDate'] = pd.to_datetime(df['InvoiceDate'])\n",
    "    df['month'] = df['InvoiceDate'].dt.to_period('M')\n",
    "    # Group by month and sum the Quantity\n",
    "    purchases = df.groupby('month')['Quantity'].sum()\n",
    "    # Plot purchases by month\n",
    "    if product_name:\n",
    "        title = 'Purchases of {} by Month'.format(product_name)\n",
    "    else:\n",
    "        title = 'Total Purchases by Month'\n",
    "    purchases.plot(kind='bar', title=title)\n",
    "    plt.xlabel('Month')\n",
    "    plt.ylabel('Quantity Purchased')\n",
    "    plt.savefig(f'modelisation/{id}.png', bbox_inches='tight')"
   ]
  },
  {
   "cell_type": "code",
   "execution_count": null,
   "metadata": {},
   "outputs": [],
   "source": [
    "plot_customer_purchases_in_period(df, -1, '2011-01-01', '2011-12-31', 'customer_purchases', 'PINK REGENCY TEACUP AND SAUCER')"
   ]
  }
 ],
 "metadata": {
  "kernelspec": {
   "display_name": "Math_Data_Science",
   "language": "python",
   "name": "python3"
  },
  "language_info": {
   "codemirror_mode": {
    "name": "ipython",
    "version": 3
   },
   "file_extension": ".py",
   "mimetype": "text/x-python",
   "name": "python",
   "nbconvert_exporter": "python",
   "pygments_lexer": "ipython3",
   "version": "3.10.8"
  },
  "orig_nbformat": 4,
  "vscode": {
   "interpreter": {
    "hash": "bb701209d7838660461ea4bdf5e2f2b1ac5ec4b6bb0e5eb1a6cf557440a25b5e"
   }
  }
 },
 "nbformat": 4,
 "nbformat_minor": 2
}
