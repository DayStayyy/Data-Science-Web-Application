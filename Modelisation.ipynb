{
 "cells": [
  {
   "cell_type": "code",
   "execution_count": null,
   "metadata": {},
   "outputs": [],
   "source": [
    "import pandas as pd\n",
    "import matplotlib.pyplot as plt"
   ]
  },
  {
   "cell_type": "code",
   "execution_count": null,
   "metadata": {},
   "outputs": [],
   "source": [
    "df = pd.read_csv('data.csv', encoding = 'ISO-8859-1')\n",
    "df.head()"
   ]
  },
  {
   "cell_type": "code",
   "execution_count": null,
   "metadata": {},
   "outputs": [],
   "source": [
    "def plot_top_products(dataframe):\n",
    "    # Group the data by product and sum the quantity\n",
    "    products = dataframe.groupby('Description').sum(numeric_only=False)['Quantity']\n",
    "    # Sort the products by quantity\n",
    "    products = products.sort_values(ascending=False)\n",
    "    # Plot the top 10 products\n",
    "    products[:10].plot(kind='bar')\n",
    "    plt.xlabel('Product')\n",
    "    plt.ylabel('Quantity Sold')\n",
    "    plt.title('Top 10 Selling Products')\n",
    "    plt.show()"
   ]
  },
  {
   "cell_type": "code",
   "execution_count": null,
   "metadata": {},
   "outputs": [],
   "source": [
    "def plot_top_returned_products(dataframe):\n",
    "    # Only get rows where quantity is less than zero\n",
    "    dataframe = dataframe[dataframe['Quantity'] < 0]\n",
    "    # Group by product and sum the quantity\n",
    "    products = dataframe.groupby('Description').sum(numeric_only=False)['Quantity']\n",
    "    # Sort products by quantity, but since it's negative we sort in ascending order\n",
    "    products = products.sort_values(ascending=True)\n",
    "    # Plot the top 10 returned products\n",
    "    ax = products[:10].plot(kind='bar')\n",
    "    ax.invert_yaxis()\n",
    "    plt.xlabel('Quantity Returned')\n",
    "    plt.ylabel('Product')\n",
    "    plt.title('Top 10 Returned Products')\n",
    "    plt.show()"
   ]
  },
  {
   "cell_type": "code",
   "execution_count": null,
   "metadata": {},
   "outputs": [],
   "source": [
    "def plot_top_customers(dataframe):\n",
    "    # Group the data by customer and sum the Quantity\n",
    "    customers = dataframe.groupby('CustomerID').sum(numeric_only=False)['Quantity']\n",
    "    # Sort the customers by quantity\n",
    "    customers = customers.sort_values(ascending=False)\n",
    "    # Plot the top 10 customers\n",
    "    customers.head(10).plot(kind='bar')\n",
    "    plt.xlabel('Customer ID')\n",
    "    plt.ylabel('Quantity Purchased')\n",
    "    plt.title('Top 10 Customers by Quantity Purchased')\n",
    "    plt.show()"
   ]
  },
  {
   "cell_type": "code",
   "execution_count": null,
   "metadata": {},
   "outputs": [],
   "source": [
    "def plot_top_returned_customers(dataframe):\n",
    "    # Group by customer and sum the Quantity\n",
    "    products = dataframe.groupby('CustomerID').sum(numeric_only=False)['Quantity']\n",
    "    # Sort customer by quantity, but since it's negative we sort in ascending order\n",
    "    products = products.sort_values(ascending=True)\n",
    "    # Plot the top 10 returned customers\n",
    "    ax = products[:10].plot(kind='bar')\n",
    "    ax.invert_yaxis()\n",
    "    plt.xlabel('Quantity Returned')\n",
    "    plt.ylabel('Customers')\n",
    "    plt.title('Top 10 Returned Customers')\n",
    "    plt.show()"
   ]
  },
  {
   "cell_type": "code",
   "execution_count": null,
   "metadata": {},
   "outputs": [],
   "source": [
    "def plot_top_products_by_country(dataframe):\n",
    "    # Only get rows where quantity is greater than zero (to ignore returns)\n",
    "    dataframe = dataframe[dataframe['Quantity'] > 0]\n",
    "    countries = dataframe['Country'].unique()\n",
    "    for country in countries:\n",
    "        # Filter data to include only rows for current country\n",
    "        df_country = dataframe[dataframe['Country'] == country]\n",
    "        # Group by product and sum the quantity\n",
    "        products = df_country.groupby('Description').sum(numeric_only=False)['Quantity']\n",
    "        # Sort products by quantity\n",
    "        products = products.sort_values(ascending=False)\n",
    "        # Plot the top 10 products\n",
    "        products[:10].plot(kind='bar')\n",
    "        plt.xlabel('Product')\n",
    "        plt.ylabel('Quantity Sold')\n",
    "        plt.title('Top 10 Sold Products in {}'.format(country))\n",
    "        plt.show()"
   ]
  },
  {
   "cell_type": "code",
   "execution_count": null,
   "metadata": {},
   "outputs": [],
   "source": []
  }
 ],
 "metadata": {
  "kernelspec": {
   "display_name": "Python 3",
   "language": "python",
   "name": "python3"
  },
  "language_info": {
   "codemirror_mode": {
    "name": "ipython",
    "version": 3
   },
   "file_extension": ".py",
   "mimetype": "text/x-python",
   "name": "python",
   "nbconvert_exporter": "python",
   "pygments_lexer": "ipython3",
   "version": "3.9.12 (main, Apr  4 2022, 05:22:27) [MSC v.1916 64 bit (AMD64)]"
  },
  "orig_nbformat": 4,
  "vscode": {
   "interpreter": {
    "hash": "9947ca907420648ee86069b82481bb3b22959ed6846e34f2e80323e30cb447a6"
   }
  }
 },
 "nbformat": 4,
 "nbformat_minor": 2
}
