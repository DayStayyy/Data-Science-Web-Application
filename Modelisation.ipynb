{
 "cells": [
  {
   "cell_type": "code",
   "execution_count": 12,
   "metadata": {},
   "outputs": [],
   "source": [
    "import pandas as pd\n",
    "import matplotlib.pyplot as plt"
   ]
  },
  {
   "cell_type": "code",
   "execution_count": 13,
   "metadata": {},
   "outputs": [
    {
     "data": {
      "text/html": [
       "<div>\n",
       "<style scoped>\n",
       "    .dataframe tbody tr th:only-of-type {\n",
       "        vertical-align: middle;\n",
       "    }\n",
       "\n",
       "    .dataframe tbody tr th {\n",
       "        vertical-align: top;\n",
       "    }\n",
       "\n",
       "    .dataframe thead th {\n",
       "        text-align: right;\n",
       "    }\n",
       "</style>\n",
       "<table border=\"1\" class=\"dataframe\">\n",
       "  <thead>\n",
       "    <tr style=\"text-align: right;\">\n",
       "      <th></th>\n",
       "      <th>InvoiceNo</th>\n",
       "      <th>StockCode</th>\n",
       "      <th>Description</th>\n",
       "      <th>Quantity</th>\n",
       "      <th>InvoiceDate</th>\n",
       "      <th>UnitPrice</th>\n",
       "      <th>CustomerID</th>\n",
       "      <th>Country</th>\n",
       "    </tr>\n",
       "  </thead>\n",
       "  <tbody>\n",
       "    <tr>\n",
       "      <th>0</th>\n",
       "      <td>536365</td>\n",
       "      <td>85123A</td>\n",
       "      <td>WHITE HANGING HEART T-LIGHT HOLDER</td>\n",
       "      <td>6</td>\n",
       "      <td>12/1/2010 8:26</td>\n",
       "      <td>2.55</td>\n",
       "      <td>17850.0</td>\n",
       "      <td>United Kingdom</td>\n",
       "    </tr>\n",
       "    <tr>\n",
       "      <th>1</th>\n",
       "      <td>536365</td>\n",
       "      <td>71053</td>\n",
       "      <td>WHITE METAL LANTERN</td>\n",
       "      <td>6</td>\n",
       "      <td>12/1/2010 8:26</td>\n",
       "      <td>3.39</td>\n",
       "      <td>17850.0</td>\n",
       "      <td>United Kingdom</td>\n",
       "    </tr>\n",
       "    <tr>\n",
       "      <th>2</th>\n",
       "      <td>536365</td>\n",
       "      <td>84406B</td>\n",
       "      <td>CREAM CUPID HEARTS COAT HANGER</td>\n",
       "      <td>8</td>\n",
       "      <td>12/1/2010 8:26</td>\n",
       "      <td>2.75</td>\n",
       "      <td>17850.0</td>\n",
       "      <td>United Kingdom</td>\n",
       "    </tr>\n",
       "    <tr>\n",
       "      <th>3</th>\n",
       "      <td>536365</td>\n",
       "      <td>84029G</td>\n",
       "      <td>KNITTED UNION FLAG HOT WATER BOTTLE</td>\n",
       "      <td>6</td>\n",
       "      <td>12/1/2010 8:26</td>\n",
       "      <td>3.39</td>\n",
       "      <td>17850.0</td>\n",
       "      <td>United Kingdom</td>\n",
       "    </tr>\n",
       "    <tr>\n",
       "      <th>4</th>\n",
       "      <td>536365</td>\n",
       "      <td>84029E</td>\n",
       "      <td>RED WOOLLY HOTTIE WHITE HEART.</td>\n",
       "      <td>6</td>\n",
       "      <td>12/1/2010 8:26</td>\n",
       "      <td>3.39</td>\n",
       "      <td>17850.0</td>\n",
       "      <td>United Kingdom</td>\n",
       "    </tr>\n",
       "  </tbody>\n",
       "</table>\n",
       "</div>"
      ],
      "text/plain": [
       "  InvoiceNo StockCode                          Description  Quantity  \\\n",
       "0    536365    85123A   WHITE HANGING HEART T-LIGHT HOLDER         6   \n",
       "1    536365     71053                  WHITE METAL LANTERN         6   \n",
       "2    536365    84406B       CREAM CUPID HEARTS COAT HANGER         8   \n",
       "3    536365    84029G  KNITTED UNION FLAG HOT WATER BOTTLE         6   \n",
       "4    536365    84029E       RED WOOLLY HOTTIE WHITE HEART.         6   \n",
       "\n",
       "      InvoiceDate  UnitPrice  CustomerID         Country  \n",
       "0  12/1/2010 8:26       2.55     17850.0  United Kingdom  \n",
       "1  12/1/2010 8:26       3.39     17850.0  United Kingdom  \n",
       "2  12/1/2010 8:26       2.75     17850.0  United Kingdom  \n",
       "3  12/1/2010 8:26       3.39     17850.0  United Kingdom  \n",
       "4  12/1/2010 8:26       3.39     17850.0  United Kingdom  "
      ]
     },
     "execution_count": 13,
     "metadata": {},
     "output_type": "execute_result"
    }
   ],
   "source": [
    "df = pd.read_csv('data.csv', encoding = 'ISO-8859-1')\n",
    "df.head()"
   ]
  },
  {
   "cell_type": "code",
   "execution_count": 14,
   "metadata": {},
   "outputs": [],
   "source": [
    "def plot_top_products(dataframe):\n",
    "    # Group the data by product and sum the quantity\n",
    "    products = dataframe.groupby('Description').sum(numeric_only=False)['Quantity']\n",
    "    # Sort the products by quantity\n",
    "    products = products.sort_values(ascending=False)\n",
    "    # Plot the top 10 products\n",
    "    products[:10].plot(kind='bar')\n",
    "    plt.xlabel('Product')\n",
    "    plt.ylabel('Quantity Sold')\n",
    "    plt.title('Top 10 Selling Products')\n",
    "    plt.show()"
   ]
  },
  {
   "cell_type": "code",
   "execution_count": 15,
   "metadata": {},
   "outputs": [],
   "source": [
    "def plot_top_returned_products(dataframe):\n",
    "    # Only get rows where quantity is less than zero\n",
    "    dataframe = dataframe[dataframe['Quantity'] < 0]\n",
    "    # Group by product and sum the quantity\n",
    "    products = dataframe.groupby('Description').sum(numeric_only=False)['Quantity']\n",
    "    # Sort products by quantity, but since it's negative we sort in ascending order\n",
    "    products = products.sort_values(ascending=True)\n",
    "    # Plot the top 10 returned products\n",
    "    ax = products[:10].plot(kind='bar')\n",
    "    ax.invert_yaxis()\n",
    "    plt.xlabel('Quantity Returned')\n",
    "    plt.ylabel('Product')\n",
    "    plt.title('Top 10 Returned Products')\n",
    "    plt.show()"
   ]
  },
  {
   "cell_type": "code",
   "execution_count": 16,
   "metadata": {},
   "outputs": [],
   "source": [
    "def plot_top_customers(dataframe):\n",
    "    # Group the data by customer and sum the Quantity\n",
    "    customers = dataframe.groupby('CustomerID').sum(numeric_only=False)['Quantity']\n",
    "    # Sort the customers by quantity\n",
    "    customers = customers.sort_values(ascending=False)\n",
    "    # Plot the top 10 customers\n",
    "    customers.head(10).plot(kind='bar')\n",
    "    plt.xlabel('Customer ID')\n",
    "    plt.ylabel('Quantity Purchased')\n",
    "    plt.title('Top 10 Customers by Quantity Purchased')\n",
    "    plt.show()"
   ]
  },
  {
   "cell_type": "code",
   "execution_count": 17,
   "metadata": {},
   "outputs": [],
   "source": [
    "def plot_top_returned_customers(dataframe):\n",
    "    # Group by customer and sum the Quantity\n",
    "    products = dataframe.groupby('CustomerID').sum(numeric_only=False)['Quantity']\n",
    "    # Sort customer by quantity, but since it's negative we sort in ascending order\n",
    "    products = products.sort_values(ascending=True)\n",
    "    # Plot the top 10 returned customers\n",
    "    ax = products[:10].plot(kind='bar')\n",
    "    ax.invert_yaxis()\n",
    "    plt.xlabel('Quantity Returned')\n",
    "    plt.ylabel('Customers')\n",
    "    plt.title('Top 10 Returned Customers')\n",
    "    plt.show()"
   ]
  },
  {
   "cell_type": "code",
   "execution_count": 18,
   "metadata": {},
   "outputs": [],
   "source": [
    "def plot_top_products_by_country(dataframe):\n",
    "    # Only get rows where quantity is greater than zero (to ignore returns)\n",
    "    dataframe = dataframe[dataframe['Quantity'] > 0]\n",
    "    countries = dataframe['Country'].unique()\n",
    "    for country in countries:\n",
    "        # Filter data to include only rows for current country\n",
    "        df_country = dataframe[dataframe['Country'] == country]\n",
    "        # Group by product and sum the quantity\n",
    "        products = df_country.groupby('Description').sum(numeric_only=False)['Quantity']\n",
    "        # Sort products by quantity\n",
    "        products = products.sort_values(ascending=False)\n",
    "        # Plot the top 10 products\n",
    "        products[:10].plot(kind='bar')\n",
    "        plt.xlabel('Product')\n",
    "        plt.ylabel('Quantity Sold')\n",
    "        plt.title('Top 10 Sold Products in {}'.format(country))\n",
    "        plt.show()"
   ]
  },
  {
   "cell_type": "code",
   "execution_count": null,
   "metadata": {},
   "outputs": [],
   "source": []
  }
 ],
 "metadata": {
  "kernelspec": {
   "display_name": "Python 3",
   "language": "python",
   "name": "python3"
  },
  "language_info": {
   "codemirror_mode": {
    "name": "ipython",
    "version": 3
   },
   "file_extension": ".py",
   "mimetype": "text/x-python",
   "name": "python",
   "nbconvert_exporter": "python",
   "pygments_lexer": "ipython3",
   "version": "3.8.6 (tags/v3.8.6:db45529, Sep 23 2020, 15:52:53) [MSC v.1927 64 bit (AMD64)]"
  },
  "orig_nbformat": 4,
  "vscode": {
   "interpreter": {
    "hash": "849169b1448c2c828c88afd8e042cc4f869c38d01f1de134a180f01e6e2a1bd3"
   }
  }
 },
 "nbformat": 4,
 "nbformat_minor": 2
}
